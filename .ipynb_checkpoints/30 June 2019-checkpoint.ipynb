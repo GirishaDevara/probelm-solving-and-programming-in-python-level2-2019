{
 "cells": [
  {
   "cell_type": "code",
   "execution_count": 28,
   "metadata": {},
   "outputs": [
    {
     "name": "stdout",
     "output_type": "stream",
     "text": [
      "https://www.hackerearth.com\n",
      "https://www.google.com\n",
      "https://www.wikipedia.com\n"
     ]
    }
   ],
   "source": [
    "sites=[\"https://www.wikipedia.com\",\"http://www.google.com\",\"https://www.hackerearth.com\",\"https://www.hackerearth.com\",\"https://www.hackerearth.com\"]\n",
    "##sites\n",
    "site_counts={}\n",
    "for site in sites:\n",
    "    site_counts[site]=site_counts.get(site,0)+1\n",
    "#print(len(site_counts))\n",
    "#print(site_counts)\n",
    "#{3:['https://www.hackerearth.com'],1:['https://www.wikipedia.com','https://www.google.com']}\n",
    "res_dict={}\n",
    "for k,v in site_counts.items():#('https://www.wikipedia.com': 1)\n",
    "    if v in res_dict:\n",
    "        l=res_dict[v]\n",
    "        l.append(k)\n",
    "        res_dict[v]=l\n",
    "    else:\n",
    "        res_dict[v]=[k]\n",
    "#print(res_dict)\n",
    "res_dict=sorted(res_dict.items(),reverse=True)\n",
    "#res_dict\n",
    "for t in res_dict:\n",
    "    for val in sorted(t[1]):\n",
    "        print(val)"
   ]
  }
 ],
 "metadata": {
  "kernelspec": {
   "display_name": "Python 3",
   "language": "python",
   "name": "python3"
  },
  "language_info": {
   "codemirror_mode": {
    "name": "ipython",
    "version": 3
   },
   "file_extension": ".py",
   "mimetype": "text/x-python",
   "name": "python",
   "nbconvert_exporter": "python",
   "pygments_lexer": "ipython3",
   "version": "3.7.3"
  }
 },
 "nbformat": 4,
 "nbformat_minor": 2
}
