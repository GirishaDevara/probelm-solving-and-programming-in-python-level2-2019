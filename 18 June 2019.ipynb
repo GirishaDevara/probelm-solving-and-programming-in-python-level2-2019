{
 "cells": [
  {
   "cell_type": "markdown",
   "metadata": {},
   "source": [
    "# Tuples\n",
    "* t1=()\n",
    "* li=[]\n",
    "* difference between lists and tuples\n",
    "* lists are mutable-can be changes/modified\n",
    "  - used to access,Modified,delete add data\n",
    "  * Tiples are immutable-cannot be change once initialised\n",
    "- Used to Access data only\n",
    "- All Slicing work"
   ]
  },
  {
   "cell_type": "code",
   "execution_count": 1,
   "metadata": {},
   "outputs": [
    {
     "data": {
      "text/plain": [
       "tuple"
      ]
     },
     "execution_count": 1,
     "metadata": {},
     "output_type": "execute_result"
    }
   ],
   "source": [
    "t=(1,2,3,4,5,6,7)\n",
    "t[3]  # Accessing the 4th element\n",
    "t[len(t)//2:]  # accessing the data of middle to end\n",
    "type(t)\n"
   ]
  },
  {
   "cell_type": "code",
   "execution_count": 2,
   "metadata": {},
   "outputs": [
    {
     "data": {
      "text/plain": [
       "['__add__',\n",
       " '__class__',\n",
       " '__contains__',\n",
       " '__delattr__',\n",
       " '__dir__',\n",
       " '__doc__',\n",
       " '__eq__',\n",
       " '__format__',\n",
       " '__ge__',\n",
       " '__getattribute__',\n",
       " '__getitem__',\n",
       " '__getnewargs__',\n",
       " '__gt__',\n",
       " '__hash__',\n",
       " '__init__',\n",
       " '__init_subclass__',\n",
       " '__iter__',\n",
       " '__le__',\n",
       " '__len__',\n",
       " '__lt__',\n",
       " '__mul__',\n",
       " '__ne__',\n",
       " '__new__',\n",
       " '__reduce__',\n",
       " '__reduce_ex__',\n",
       " '__repr__',\n",
       " '__rmul__',\n",
       " '__setattr__',\n",
       " '__sizeof__',\n",
       " '__str__',\n",
       " '__subclasshook__',\n",
       " 'count',\n",
       " 'index']"
      ]
     },
     "execution_count": 2,
     "metadata": {},
     "output_type": "execute_result"
    }
   ],
   "source": [
    "dir(tuple)"
   ]
  },
  {
   "cell_type": "markdown",
   "metadata": {},
   "source": [
    "# Dictionary\n",
    "\n",
    "- works on the concept of set\n",
    "   - Unique data\n",
    "  * keys,value\n",
    "  * key is the unique identifier for a value\n",
    "  * value is data that can be accessed with a key\n",
    "  "
   ]
  },
  {
   "cell_type": "code",
   "execution_count": 3,
   "metadata": {},
   "outputs": [
    {
     "name": "stdout",
     "output_type": "stream",
     "text": [
      "value2\n",
      "dict_keys(['k1', 'k2'])\n",
      "dict_values(['value', 'value2'])\n",
      "dict_items([('k1', 'value'), ('k2', 'value2')])\n",
      "{'k1': 'value', 'k2': 'value2', 3: 'value', 'k4': 'value'}\n"
     ]
    },
    {
     "data": {
      "text/plain": [
       "{'k1': 'value', 'k2': 'value2', 'k4': 'value', 'k3': 'value4'}"
      ]
     },
     "execution_count": 3,
     "metadata": {},
     "output_type": "execute_result"
    }
   ],
   "source": [
    "d1={\"k1\":\"value\",\"k2\":\"value2\"}\n",
    "print(d1[\"k2\"])  # Accessing the value with keys [k2]\n",
    "print(d1.keys())  # Acc all keys\n",
    "print(d1.values())  # Acc all values\n",
    "print(d1.items())  # returns list of tuples of keys and values\n",
    "d1[3]=\"value\"  # adding an element\n",
    "d1[\"k4\"]=\"value\"\n",
    "print(d1)\n",
    "d1.pop(3)\n",
    "\"k3\" in d1 # checking the key in dictionary\n",
    "d1[\"k3\"]=\"value4\"\n",
    "d1"
   ]
  },
  {
   "cell_type": "markdown",
   "metadata": {},
   "source": [
    "### Contacts Application\n",
    "- Add contact\n",
    "- search for contact\n",
    "- list all cintacts\n",
    "- modify contact\n",
    "- remove contact"
   ]
  },
  {
   "cell_type": "code",
   "execution_count": 3,
   "metadata": {},
   "outputs": [
    {
     "name": "stdout",
     "output_type": "stream",
     "text": [
      "contact added\n"
     ]
    }
   ],
   "source": [
    "contact={}\n",
    "def addontact(name,phone):\n",
    "    if name not in contact:\n",
    "        contact[name]=phone\n",
    "        print(\"contact added\")\n",
    "    else:\n",
    "        print(\"Contacts %s already exist\" %name)\n",
    "    return\n",
    "addontact(\"name\",\"123456789\")"
   ]
  },
  {
   "cell_type": "code",
   "execution_count": 5,
   "metadata": {},
   "outputs": [
    {
     "name": "stdout",
     "output_type": "stream",
     "text": [
      "name : 123456789\n",
      "contact doesnt exist\n"
     ]
    }
   ],
   "source": [
    "def searchcontact(name):\n",
    "    if name  in contact:\n",
    "        #contact[name]=phone\n",
    "        print(name,\":\",contact[name])\n",
    "        print(\"contact doesnt exist\")\n",
    "    else:\n",
    "        print(\"Contacts %s already exist\" %name)\n",
    "    return\n",
    "searchcontact(\"name\")"
   ]
  },
  {
   "cell_type": "code",
   "execution_count": 7,
   "metadata": {},
   "outputs": [
    {
     "name": "stdout",
     "output_type": "stream",
     "text": [
      "{'name': '123456789', 'satya': 889735957}\n",
      "name : 123456789\n",
      "satya : 889735957\n"
     ]
    }
   ],
   "source": [
    "# add another contact\n",
    "def addcontacts(name,phone):\n",
    "    if name not in contact:\n",
    "        contact[name]=phone\n",
    "    print(contact)\n",
    "addcontacts(\"satya\",889735957)\n",
    "# list all contacts\n",
    "def listallcontacts(contactdict):\n",
    "    for key,value in contact.items():\n",
    "        print(key,value,sep=\" : \")\n",
    "listallcontacts(contact)"
   ]
  },
  {
   "cell_type": "code",
   "execution_count": 10,
   "metadata": {},
   "outputs": [
    {
     "name": "stdout",
     "output_type": "stream",
     "text": [
      "{'name': '123456789', 'satya': 889735957} contact name doesn't exits\n"
     ]
    }
   ],
   "source": [
    "# Modify contats\n",
    "def modifycontact(name,num):\n",
    "    if name in contact:\n",
    "        contact[name]=num\n",
    "        print(contact, \"contact modified\")\n",
    "    else :\n",
    "        print(contact, \"contact name doesn't exits\")\n",
    "modifycontact(\"name2\",98567)"
   ]
  },
  {
   "cell_type": "code",
   "execution_count": 4,
   "metadata": {},
   "outputs": [
    {
     "name": "stdout",
     "output_type": "stream",
     "text": [
      "4 contacts added successfully\n",
      "name : 123456789\n",
      "name2 : 7702072905\n",
      "name3 : 7337475699\n",
      "name4 : 9873082789\n",
      "name5 : 9087654342\n",
      "{'name': '123456789', 'name2': 7702072905, 'name3': 7337475699, 'name4': 'new1', 'name5': 9087654342}\n"
     ]
    }
   ],
   "source": [
    "# new contacts is given as dictionary\n",
    "#merge new contacts with existing contacts\n",
    "def importcontacts(newcontacts):\n",
    "    contact.update(newcontacts)\n",
    "    print(len(newcontacts.keys()),\"contacts added successfully\")\n",
    "    return\n",
    "\n",
    "newcontacts={\"name2\":7702072905,\"name3\":7337475699,\"name4\":9873082789,\"name5\":9087654342}\n",
    "\n",
    "importcontacts(newcontacts)\n",
    "def contactsinlist(contact):\n",
    "    for keys,values in contact.items():\n",
    "        print(keys,\":\",values)\n",
    "contactsinlist(contact)        \n",
    "        \n",
    "def modify(key1):\n",
    "    contact[key1]=\"new1\"\n",
    "    print(contact)\n",
    "    return\n",
    "modify(\"name4\")"
   ]
  },
  {
   "cell_type": "markdown",
   "metadata": {},
   "source": [
    "# Package and modules\n",
    "**package**-> is a collection of modules(python file .py) --- a module is nothing but a python file\n",
    "\n",
    "\n",
    "**Sub Packege** -> A single python file containing "
   ]
  },
  {
   "cell_type": "code",
   "execution_count": 13,
   "metadata": {},
   "outputs": [
    {
     "data": {
      "text/plain": [
       "3.141592653589793"
      ]
     },
     "execution_count": 13,
     "metadata": {},
     "output_type": "execute_result"
    }
   ],
   "source": [
    "import math # math module is a direct py file  \n",
    "math.floor(123.456)\n",
    "\n",
    "math.pi"
   ]
  },
  {
   "cell_type": "code",
   "execution_count": 15,
   "metadata": {},
   "outputs": [
    {
     "ename": "TypeError",
     "evalue": "'module' object is not callable",
     "output_type": "error",
     "traceback": [
      "\u001b[1;31m---------------------------------------------------------------------------\u001b[0m",
      "\u001b[1;31mTypeError\u001b[0m                                 Traceback (most recent call last)",
      "\u001b[1;32m<ipython-input-15-21135966859e>\u001b[0m in \u001b[0;36m<module>\u001b[1;34m\u001b[0m\n\u001b[0;32m      1\u001b[0m \u001b[1;32mimport\u001b[0m \u001b[0mmath\u001b[0m \u001b[1;32mas\u001b[0m \u001b[0mfloor\u001b[0m \u001b[1;31m# math module is a direct py file\u001b[0m\u001b[1;33m\u001b[0m\u001b[1;33m\u001b[0m\u001b[0m\n\u001b[1;32m----> 2\u001b[1;33m \u001b[0mfloor\u001b[0m\u001b[1;33m(\u001b[0m\u001b[1;36m123.456\u001b[0m\u001b[1;33m)\u001b[0m\u001b[1;33m\u001b[0m\u001b[1;33m\u001b[0m\u001b[0m\n\u001b[0m\u001b[0;32m      3\u001b[0m \u001b[1;33m\u001b[0m\u001b[0m\n\u001b[0;32m      4\u001b[0m \u001b[0mpi\u001b[0m\u001b[1;33m\u001b[0m\u001b[1;33m\u001b[0m\u001b[0m\n",
      "\u001b[1;31mTypeError\u001b[0m: 'module' object is not callable"
     ]
    }
   ],
   "source": [
    "import math as floor # math module is a direct py file  \n",
    "floor(123.456)\n",
    "\n",
    "pi # we did not import enteir module "
   ]
  },
  {
   "cell_type": "code",
   "execution_count": 24,
   "metadata": {},
   "outputs": [
    {
     "data": {
      "text/plain": [
       "3.141592653589793"
      ]
     },
     "execution_count": 24,
     "metadata": {},
     "output_type": "execute_result"
    }
   ],
   "source": [
    "import math as m# math module is a direct py file  \n",
    "\n",
    "m.floor(123.456)\n",
    "\n",
    "m.pi"
   ]
  },
  {
   "cell_type": "code",
   "execution_count": 26,
   "metadata": {},
   "outputs": [
    {
     "data": {
      "text/plain": [
       "123"
      ]
     },
     "execution_count": 26,
     "metadata": {},
     "output_type": "execute_result"
    }
   ],
   "source": [
    "from math import floor as f1\n",
    "f1(123.456)"
   ]
  },
  {
   "cell_type": "code",
   "execution_count": 33,
   "metadata": {},
   "outputs": [
    {
     "name": "stdout",
     "output_type": "stream",
     "text": [
      "43 44 40 37 84 8 95 80 43 90 "
     ]
    }
   ],
   "source": [
    "# generate N random numbers\n",
    "import random \n",
    "\n",
    "def generateNrandomnumbers(n,lb,ub):\n",
    "    for i in range(0,n):\n",
    "        print(random.randint(lb,ub),end=\" \")\n",
    "generateNrandomnumbers(10,0,100)"
   ]
  },
  {
   "cell_type": "code",
   "execution_count": 36,
   "metadata": {},
   "outputs": [
    {
     "data": {
      "text/plain": [
       "['1', '3', '3', '5', '7', '2', '2']"
      ]
     },
     "execution_count": 36,
     "metadata": {},
     "output_type": "execute_result"
    }
   ],
   "source": [
    "import re\n",
    "re.findall('\\d','13X357-22')"
   ]
  },
  {
   "cell_type": "code",
   "execution_count": 40,
   "metadata": {},
   "outputs": [
    {
     "data": {
      "text/plain": [
       "True"
      ]
     },
     "execution_count": 40,
     "metadata": {},
     "output_type": "execute_result"
    }
   ],
   "source": [
    "from Packages import numerical as nm\n",
    "\n",
    "nm.prime(23)"
   ]
  },
  {
   "cell_type": "code",
   "execution_count": 1,
   "metadata": {},
   "outputs": [
    {
     "data": {
      "text/plain": [
       "'YES'"
      ]
     },
     "execution_count": 1,
     "metadata": {},
     "output_type": "execute_result"
    }
   ],
   "source": [
    "from Packages.numerical import SpecialNum\n",
    "\n",
    "SpecialNum(45,2)"
   ]
  },
  {
   "cell_type": "markdown",
   "metadata": {},
   "source": [
    "# Practies"
   ]
  },
  {
   "cell_type": "code",
   "execution_count": 18,
   "metadata": {},
   "outputs": [
    {
     "data": {
      "text/plain": [
       "[(4, 2), (2, 4), (3, 3), (2, 2, 2), (3, 3)]"
      ]
     },
     "execution_count": 18,
     "metadata": {},
     "output_type": "execute_result"
    }
   ],
   "source": [
    "digit_match = {0:6,1:2,2:5,3:5,4:4,5:5,6:6,7:3,8:7,9:6}\n",
    "n=0\n",
    "match_count = digit_match.get(n)#6\n",
    "allmatches = [v for k,v in digit_match.items() if v<match_count]#2 5 5 4 5 3\n",
    "all_possible_pairs=[(i,item) for item in allmatches for i in allmatches if i+item==match_count]\n",
    "for i in allmatches:\n",
    "    if match_count%i==0:\n",
    "        all_possible_pairs.append(tuple(map(int,str(i)*(match_count//i))))\n"
   ]
  },
  {
   "cell_type": "code",
   "execution_count": 7,
   "metadata": {},
   "outputs": [],
   "source": [
    "s.replace?"
   ]
  }
 ],
 "metadata": {
  "kernelspec": {
   "display_name": "Python 3",
   "language": "python",
   "name": "python3"
  },
  "language_info": {
   "codemirror_mode": {
    "name": "ipython",
    "version": 3
   },
   "file_extension": ".py",
   "mimetype": "text/x-python",
   "name": "python",
   "nbconvert_exporter": "python",
   "pygments_lexer": "ipython3",
   "version": "3.7.3"
  }
 },
 "nbformat": 4,
 "nbformat_minor": 2
}
