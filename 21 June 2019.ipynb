{
 "cells": [
  {
   "cell_type": "code",
   "execution_count": 66,
   "metadata": {},
   "outputs": [
    {
     "name": "stdout",
     "output_type": "stream",
     "text": [
      "name2 added to contacts\n",
      "True\n"
     ]
    }
   ],
   "source": [
    "# function to add contact to contacts text file\n",
    "from Packages import validators\n",
    "#from Packages.validators import phoneNumberValidator as pnv, emailValidator as ev\n",
    "def addcontact(name, phone, email):\n",
    "    #Store data as name,phone,emailin the contacts file\n",
    "    filename = \"DataFiles/contacts.txt\"\n",
    "    if not  checkcontactsExists(name):\n",
    "        if validators.phoneNumberValidater(phone) and validators.emailValidater(email):\n",
    "            with open(filename, 'a') as f:\n",
    "                line = name + ',' + str(phone) +',' + email +'\\n'\n",
    "                f.write(line)\n",
    "            print(name, \"added to contacts\")\n",
    "        else:\n",
    "            print(name, 'not valid')\n",
    "    return name, 'already exists'\n",
    "    \n",
    "import re\n",
    "\n",
    "# fun to check if contcts already exists\n",
    "def checkcontactsExists(name):\n",
    "    filename = \"DataFiles/contacts.txt\"\n",
    "    with open(filename, 'r') as f:\n",
    "        filedata = f.read()\n",
    "        pattern = name+','\n",
    "    return re.search(name, filedata)\n",
    "\n",
    "\n",
    "           #'name2', 8765432109, 'name2_34@gmail.com'\n",
    "addcontact(\"name2\", 9654982976, \"mmai9_l67@kmail.com\")\n",
    "if checkcontactsExists(\"name2\"):\n",
    "    print(True)\n",
    "else:\n",
    "    print(False)"
   ]
  },
  {
   "cell_type": "code",
   "execution_count": 67,
   "metadata": {},
   "outputs": [],
   "source": [
    "if None:\n",
    "    print('check')"
   ]
  },
  {
   "cell_type": "code",
   "execution_count": 5,
   "metadata": {},
   "outputs": [
    {
     "data": {
      "text/plain": [
       "['.ipynb_checkpoints', 'contacts.txt', 'data.txt', 'mycontacts.txt']"
      ]
     },
     "execution_count": 5,
     "metadata": {},
     "output_type": "execute_result"
    }
   ],
   "source": [
    "import os\n",
    "os.listdir('DataFiles')"
   ]
  },
  {
   "cell_type": "code",
   "execution_count": 28,
   "metadata": {},
   "outputs": [
    {
     "data": {
      "text/plain": [
       "[['newjaffa', '9783645087', 'jaffa34@gmail.com\\n'],\n",
       " ['name2', '8765432109', 'name2_34@gmail.com\\n'],\n",
       " ['name5', '9654982976', 'mmai9_l67@kmail.com\\n']]"
      ]
     },
     "execution_count": 28,
     "metadata": {},
     "output_type": "execute_result"
    }
   ],
   "source": [
    "filename = \"DataFiles/contacts.txt\"\n",
    "def csvtoList(filename):\n",
    "    li = []\n",
    "    with open(filename, 'r') as f:\n",
    "        for line in f:\n",
    "            li.append(line.split(\",\"))\n",
    "    return li\n",
    "li = csvtoList(filename)"
   ]
  },
  {
   "cell_type": "markdown",
   "metadata": {},
   "source": [
    "## Practies"
   ]
  },
  {
   "cell_type": "code",
   "execution_count": 75,
   "metadata": {},
   "outputs": [],
   "source": [
    "def searchforcontact(name):\n",
    "    fl = csvtoList(filename)\n",
    "    for line in fl:\n",
    "        flag = 0\n",
    "        if name in line[0]:\n",
    "            flag = 1\n",
    "            return \",\".join(line)  \n",
    "    return \n",
    "searchforcontact(\"name9\")"
   ]
  },
  {
   "cell_type": "code",
   "execution_count": 68,
   "metadata": {},
   "outputs": [
    {
     "data": {
      "text/plain": [
       "2"
      ]
     },
     "execution_count": 68,
     "metadata": {},
     "output_type": "execute_result"
    }
   ],
   "source": [
    "def searchwithreturn(fname,name):\n",
    "    fl = csvtoList(filename)\n",
    "    flag = 0\n",
    "    for i in range(len(fl)):\n",
    "        if name == fl[i][0]:\n",
    "            flag = 1\n",
    "            return i\n",
    "    if flag == 0:\n",
    "        return -1\n",
    "searchwithreturn(\"DataFiles/contacts.txt\",\"name2\")"
   ]
  },
  {
   "cell_type": "code",
   "execution_count": 78,
   "metadata": {},
   "outputs": [],
   "source": [
    "def removecontact(fname,name):\n",
    "    i = searchwithreturn(fname,name)\n",
    "    if i != -1:\n",
    "        fl = csvtoList(filename)\n",
    "        fl.pop(i)\n",
    "        a = listoFile(fl)\n",
    "        with open(fname,'w') as f:\n",
    "            f.write(a)\n",
    "    else:\n",
    "        print(\"not found\")\n",
    "removecontact(\"DataFiles/contacts.txt\",\"name1\")"
   ]
  },
  {
   "cell_type": "code",
   "execution_count": 73,
   "metadata": {},
   "outputs": [
    {
     "data": {
      "text/plain": [
       "' newjaffa,9783645087,jaffa34@gmail.com\\nname2,8765432109,name2_34@gmail.com\\nname5,9654982976,mmai9_l67@kmail.com\\n'"
      ]
     },
     "execution_count": 73,
     "metadata": {},
     "output_type": "execute_result"
    }
   ],
   "source": [
    "def listoFile(li):\n",
    "    s = \" \"\n",
    "    for i in li:\n",
    "        s += \",\".join(i)\n",
    "    return s\n",
    "listoFile(li)"
   ]
  },
  {
   "cell_type": "code",
   "execution_count": 37,
   "metadata": {},
   "outputs": [],
   "source": [
    "s=\"abcdefghijklmnopqrstuvwxyz\"\n",
    "CapS = s.swapcase()"
   ]
  },
  {
   "cell_type": "code",
   "execution_count": 6,
   "metadata": {},
   "outputs": [
    {
     "name": "stdout",
     "output_type": "stream",
     "text": [
      "97 98 99 100 101 102 103 104 105 106 107 108 109 110 111 112 113 114 115 116 117 118 119 120 121 122 "
     ]
    }
   ],
   "source": [
    "for char in s:\n",
    "    print(ord(char),end=' ')"
   ]
  },
  {
   "cell_type": "code",
   "execution_count": 7,
   "metadata": {},
   "outputs": [
    {
     "name": "stdout",
     "output_type": "stream",
     "text": [
      "65 66 67 68 69 70 71 72 73 74 75 76 77 78 79 80 81 82 83 84 85 86 87 88 89 90 "
     ]
    }
   ],
   "source": [
    "for char in CapS:\n",
    "    print(ord(char),end=' ')"
   ]
  },
  {
   "cell_type": "code",
   "execution_count": null,
   "metadata": {},
   "outputs": [],
   "source": [
    "def CipherCode(s,n):\n",
    "    encrypted_list=[]\n",
    "    for elem in s:\n",
    "        if elem.isalpha():\n",
    "            newcharval = (n%26)+ord(elem)\n",
    "            if elem.isupper() and newcharval > 90:\n",
    "                encrypted_list.append(chr((newcharval-90)+64))\n",
    "            elif elem.isupper() and newcharval <= 90:\n",
    "                encrypted_list.append(chr(newcharval))\n",
    "            elif elem.islower() and newcharval > 122:\n",
    "                encrypted_list.append(chr((newcharval-122)+96))\n",
    "            elif elem.islower() and newcharval <=122:\n",
    "                encrypted_list.append(chr(newcharval))\n",
    "        elif elem.isdigit():\n",
    "            encrypted_list.append(str((int(elem)+n)%10))\n",
    "        else: \n",
    "            encrypted_list.append(elem)\n",
    "    return \"\".join(encrypted_list)\n",
    "# Write your code here\n",
    "S = input()\n",
    "N = int(input())\n",
    "print(CipherCode(S,N))\n"
   ]
  }
 ],
 "metadata": {
  "kernelspec": {
   "display_name": "Python 3",
   "language": "python",
   "name": "python3"
  },
  "language_info": {
   "codemirror_mode": {
    "name": "ipython",
    "version": 3
   },
   "file_extension": ".py",
   "mimetype": "text/x-python",
   "name": "python",
   "nbconvert_exporter": "python",
   "pygments_lexer": "ipython3",
   "version": "3.7.3"
  }
 },
 "nbformat": 4,
 "nbformat_minor": 2
}
