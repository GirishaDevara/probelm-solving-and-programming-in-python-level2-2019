{
 "cells": [
  {
   "cell_type": "markdown",
   "metadata": {},
   "source": [
    "# Practies \n",
    "\n",
    "## Date- 15/06/2019\n",
    "\n"
   ]
  },
  {
   "cell_type": "code",
   "execution_count": null,
   "metadata": {},
   "outputs": [],
   "source": []
  },
  {
   "cell_type": "code",
   "execution_count": null,
   "metadata": {},
   "outputs": [],
   "source": [
    "#Palindromic String\n",
    "def PalindromicString(s):\n",
    "   if s==s[::-1]:\n",
    "       return \"YES\"\n",
    "   return \"NO\"\n",
    "s=input()\n",
    "print(PalindromicString(s))\n"
   ]
  },
  {
   "cell_type": "code",
   "execution_count": null,
   "metadata": {},
   "outputs": [],
   "source": [
    "#Count Divisors\n",
    "def count_devices(l,r,k):\n",
    "   c=0\n",
    "   for i in range(l,r+1):\n",
    "       if i%k==0:\n",
    "           c+=1\n",
    "   return c\n",
    "l,r,k = (map(int,input().split()))\n",
    "out=count_devices(l,r,k)\n",
    "print(out)"
   ]
  },
  {
   "cell_type": "code",
   "execution_count": null,
   "metadata": {},
   "outputs": [],
   "source": [
    "#n Prime numbers\n",
    "def prime(i):\n",
    "    c=0\n",
    "    for value in range(2,i):\n",
    "        if i%value==0:\n",
    "            c+=1\n",
    "    if c<1:\n",
    "        return True\n",
    "    return False\n",
    "\n",
    "\n",
    "def Nprime(n):\n",
    "    for i in range(2,n):\n",
    "        if prime(i):\n",
    "            print(i,end=\" \")\n",
    "\n",
    "n=int(input())\n",
    "Nprime(n)"
   ]
  },
  {
   "cell_type": "code",
   "execution_count": null,
   "metadata": {},
   "outputs": [],
   "source": [
    "#factorial\n",
    "def factorial(n):\n",
    "   f=1\n",
    "   for i in range(1,n+1):\n",
    "       f*=i\n",
    "   return f\n",
    "n = int(input())\n",
    "print(factorial(n))\n"
   ]
  },
  {
   "cell_type": "code",
   "execution_count": null,
   "metadata": {},
   "outputs": [],
   "source": [
    "#ToggleString\n",
    "def ToggleString(s):\n",
    "   s=s.swapcase()\n",
    "   return s\n",
    "s=input()\n",
    "print(ToggleString(s))\n"
   ]
  },
  {
   "cell_type": "code",
   "execution_count": null,
   "metadata": {},
   "outputs": [],
   "source": [
    "# SumChar\n",
    "def SumChar(s):\n",
    "   alp=\"abcdefghijklmnopqrstuvwxyz\"\n",
    "   f=0\n",
    "   for char in s:\n",
    "       f+=alp.find(char)+1\n",
    "   return f\n",
    "s=input()\n",
    "print(SumChar(s))\n",
    "\n",
    "\n",
    "# 2nd method\n",
    "def SumChar2(s):\n",
    "   f=0\n",
    "   for char in s:\n",
    "       f+=ord(char)-96\n",
    "   return f\n",
    "s=input()\n",
    "print(SumChar(s))\n",
    "\n"
   ]
  },
  {
   "cell_type": "code",
   "execution_count": null,
   "metadata": {},
   "outputs": [],
   "source": [
    "def TwoStrings(s1,s2):\n",
    "   s1=sorted(s1)\n",
    "   s2=sorted(s2)\n",
    "   if s1==s2:\n",
    "       return \"YES\"\n",
    "   return \"NO\"\n",
    "n=int(input())\n",
    "for i in range(n):\n",
    "   s=input().split()\n",
    "   s1=s[0]\n",
    "   s2=s[1]\n",
    "   print(TwoStrings(s1,s2))"
   ]
  },
  {
   "cell_type": "code",
   "execution_count": null,
   "metadata": {},
   "outputs": [],
   "source": [
    "def Duration(sh,sm,eh,em):\n",
    "   dsh = sh + 1\n",
    "   dsm = 60 - sm\n",
    "   dem = 0 + em\n",
    "   if dsh == eh:\n",
    "       if (dsm + dem)>=60:\n",
    "           print(0+1,(dsm + dem)-60)\n",
    "       else:\n",
    "           print(0,dsm + dem)\n",
    "   else:\n",
    "       if (dsm + dem)>=60:\n",
    "           print((eh - dsh)+1,(dsm + dem)-60)\n",
    "       else:\n",
    "           print(eh - dsh,dsm + dem)\n",
    "\n",
    "# for read input\n",
    "n=int(input())\n",
    "for i in range(n):\n",
    "   duration = input().split()\n",
    "   sh = int(duration[0])\n",
    "   sm = int(duration[1])\n",
    "   eh = int(duration[2])\n",
    "   em = int(duration[3])\n",
    "   Duration(sh,sm,eh,em)\n"
   ]
  },
  {
   "cell_type": "code",
   "execution_count": null,
   "metadata": {},
   "outputs": [],
   "source": [
    "\n",
    "def RoyandProfilePicture(L,W,H):\n",
    "   if (W<L) or (H<L):\n",
    "       return \"UPLOAD ANOTHER\"\n",
    "   else:\n",
    "       if (W>L and H>L) and (H==L):\n",
    "           return \"ACCEPTED\"\n",
    "       elif W == H:\n",
    "           return \"ACCEPTED\"\n",
    "       else:\n",
    "           return \"CROP IT\"\n",
    "L = int(input())\n",
    "n = int(input())\n",
    "for i in range(n):\n",
    "   WH = list(map(int,input().split()))\n",
    "   print(RoyandProfilePicture(L,WH[0],WH[1]))"
   ]
  },
  {
   "cell_type": "code",
   "execution_count": null,
   "metadata": {},
   "outputs": [],
   "source": [
    "def e_maze_in(s):\n",
    "   x=0\n",
    "   y=0\n",
    "   for ch in s:\n",
    "       if ch == \"R\":\n",
    "           x+=1\n",
    "       elif ch == 'L':\n",
    "           x-=1\n",
    "       elif ch == \"U\":\n",
    "           y+=1\n",
    "       elif ch == 'D':\n",
    "           y-=1\n",
    "   print(x,y)\n",
    "s=input()\n",
    "e_maze_in(s)\n"
   ]
  },
  {
   "cell_type": "code",
   "execution_count": 5,
   "metadata": {},
   "outputs": [
    {
     "name": "stdout",
     "output_type": "stream",
     "text": [
      "2\n",
      "4 6 7\n",
      "518\n"
     ]
    }
   ],
   "source": [
    "def findProduct(ar):\n",
    "    p=1\n",
    "    for cr in ar:\n",
    "        p = (p * cr) % (10**9)+7\n",
    "    return p\n",
    "n = int(input())\n",
    "ar = list(map(int,input().split()))\n",
    "out = findProduct(ar)\n",
    "print(out)"
   ]
  },
  {
   "cell_type": "code",
   "execution_count": null,
   "metadata": {},
   "outputs": [],
   "source": []
  }
 ],
 "metadata": {
  "kernelspec": {
   "display_name": "Python 3",
   "language": "python",
   "name": "python3"
  },
  "language_info": {
   "codemirror_mode": {
    "name": "ipython",
    "version": 3
   },
   "file_extension": ".py",
   "mimetype": "text/x-python",
   "name": "python",
   "nbconvert_exporter": "python",
   "pygments_lexer": "ipython3",
   "version": "3.7.3"
  }
 },
 "nbformat": 4,
 "nbformat_minor": 2
}
