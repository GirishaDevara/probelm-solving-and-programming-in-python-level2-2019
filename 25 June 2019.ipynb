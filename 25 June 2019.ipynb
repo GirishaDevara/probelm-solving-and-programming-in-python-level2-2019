{
 "cells": [
  {
   "cell_type": "markdown",
   "metadata": {},
   "source": [
    " **Contact Applications**\n"
   ]
  },
  {
   "cell_type": "code",
   "execution_count": 1,
   "metadata": {},
   "outputs": [],
   "source": [
    "# Adding contacts to a file\n",
    "import re\n",
    "from Packages import validators\n",
    "def addContact(name,phnum,email):\n",
    "    with open('DataFiles\\contacts.txt','r+') as f:\n",
    "        filedata = f.read()\n",
    "        if not re.search(name,filedata):\n",
    "            if validators.phoneNumberValidater(phnum) and validators.emailValidater(email):\n",
    "                line = '\\n'+name+\",\"+phnum+\",\"+email\n",
    "                f.write(line)\n",
    "                print('added contact')\n",
    "            else:\n",
    "                print(\"invalid\")\n",
    "        else:\n",
    "            name+\" already exists\"\n",
    "    return\n",
    "addContact(\"name45\",\"9982647375\",\"email.1@gmail.com\")  "
   ]
  },
  {
   "cell_type": "code",
   "execution_count": 5,
   "metadata": {},
   "outputs": [
    {
     "name": "stdout",
     "output_type": "stream",
     "text": [
      "name1,6954982976,mmai1_1@kmail.com\n",
      "\n",
      "name2,9654982976,mmai2_2@kmail.com\n",
      "\n",
      "name3,8326743534,mmai3_3@kmail.com\n",
      "\n",
      "name4,9999656576,mmai4_4@kmail.com\n",
      "\n",
      "name45,9982647375,email.1@gmail.com\n"
     ]
    }
   ],
   "source": [
    "# Search Contacts in a file\n",
    "def searchForContact(filepath,name):\n",
    "    with open(filepath,'r') as f:\n",
    "        filelines = f.readlines()\n",
    "        for line in filelines:\n",
    "            print(line)\n",
    "            if name in line[0]:\n",
    "                print(\"contact Searched\",end=' ')\n",
    "searchForContact('DataFiles\\contacts.txt','name2')"
   ]
  },
  {
   "cell_type": "code",
   "execution_count": null,
   "metadata": {},
   "outputs": [],
   "source": [
    "def largestFrequency(s,k):\n",
    "    d = {}\n",
    "    \n",
    "for t in range(int(input())):\n",
    "    s = input()\n",
    "    k = int(input())"
   ]
  },
  {
   "cell_type": "code",
   "execution_count": 11,
   "metadata": {},
   "outputs": [
    {
     "name": "stdout",
     "output_type": "stream",
     "text": [
      "uyi\n",
      "iyu\n",
      "True\n"
     ]
    }
   ],
   "source": [
    "# fun to check anagrams\n",
    "def checkAnagrams(s1,s2):\n",
    "    if len(s1) != len(s2):\n",
    "        return False\n",
    "    if sorted(s1) == sorted(s2):\n",
    "        return True        \n",
    "    return False\n",
    "    \n",
    "def anagrams(s1,s2):# abc cde\n",
    "    if not checkAnagrams(s1,s2):\n",
    "        c = 1\n",
    "        s1 = sorted(s1)\n",
    "        s2 = sorted(s2)\n",
    "        for char in s1:\n",
    "            if char not in s2:\n",
    "                c+=1\n",
    "        return c+1\n",
    "    else:\n",
    "        return 0\n",
    "s1 = input()\n",
    "s2 = input()\n",
    "print(checkAnagrams(s1,s2))"
   ]
  },
  {
   "cell_type": "code",
   "execution_count": 13,
   "metadata": {},
   "outputs": [
    {
     "ename": "IndentationError",
     "evalue": "unindent does not match any outer indentation level (<tokenize>, line 50)",
     "output_type": "error",
     "traceback": [
      "\u001b[1;36m  File \u001b[1;32m\"<tokenize>\"\u001b[1;36m, line \u001b[1;32m50\u001b[0m\n\u001b[1;33m    for i in s1:\u001b[0m\n\u001b[1;37m    ^\u001b[0m\n\u001b[1;31mIndentationError\u001b[0m\u001b[1;31m:\u001b[0m unindent does not match any outer indentation level\n"
     ]
    }
   ],
   "source": [
    "# new contacts is given as dictionary\n",
    "#merge new contacts with existing contacts\n",
    "def importcontacts(newcontacts):\n",
    "   contacts.update(newcontacts)\n",
    "   print(len(newcontacts.keys()),\"contacts added successfully\")\n",
    "   return\n",
    "\n",
    "newcontacts={\"name2\":7702072905,\"name3\":7337475699,\"name4\":9873082789,\"name5\":9087654342}\n",
    "\n",
    "importcontacts(newcontacts)\n",
    "def contactsinlist(contacts):\n",
    "    for keys,values in contacts.items():\n",
    "        print(keys,\":\",values)\n",
    "contactsinlist(contacts)        \n",
    "        \n",
    "def modify(key1):\n",
    "    contacts[key1]=\"new1\"\n",
    "    print(contacts)\n",
    "    return\n",
    "modify(\"name4\")\n",
    "https://sites.google.com/view/ao0717907-level2-june-2019/worklog/21-june-2019\n",
    "#function to check if two strings are equal r not\n",
    "#abc cba ->>true\n",
    "# abc abc\n",
    "#aabbcc ccbbaaa-->false\n",
    "def checkanagram(s1,s2):\n",
    "    if len(s1)!=len(s2):\n",
    "        return False\n",
    "    if sorted(s1)==sorted(s2):\n",
    "        return True\n",
    "    return False\n",
    "checkanagram('abc','bcc')\n",
    "    \n",
    "def chardeletionsanagrams(s1,s2):\n",
    "    uncommon=[]\n",
    "    for i in s1:\n",
    "        if i not in s2:\n",
    "            uncommon.append(i)\n",
    "    for i in s2:\n",
    "        if i not in s1:\n",
    "            uncommon.append(i)\n",
    "    count=len(uncommon)\n",
    "   #freq1-->frequency of common \n",
    "    freqs1={}\n",
    "    freqs2={}\n",
    "   #unique char in s1 and s2\n",
    "    uniqs1=[]\n",
    "    uniqs2=[]\n",
    "   #frequency of unique charcters in s1\n",
    "   for i in s1:\n",
    "        if i not in uncommon and i not in uniqs1:\n",
    "            freqs1[i]=s1.count(i)\n",
    "            uniqs1.append(i)\n",
    "   #frequency of unique charcters in s2        \n",
    "   for i in s2:\n",
    "        if i not in uncommon and i not in uniqs2:\n",
    "            freqs2[i]=s2.count(i)\n",
    "            uniqs2.append(i)\n",
    "   # difference in frequencies for common characters         \n",
    "   for key in freqs1.keys():\n",
    "        count+=abs(freqs1[key]-freqs2[key])\n",
    "           \n",
    "    return count      \n",
    "           \n",
    "chardeletionsanagrams('cde','abc') "
   ]
  },
  {
   "cell_type": "code",
   "execution_count": null,
   "metadata": {},
   "outputs": [],
   "source": []
  }
 ],
 "metadata": {
  "kernelspec": {
   "display_name": "Python 3",
   "language": "python",
   "name": "python3"
  },
  "language_info": {
   "codemirror_mode": {
    "name": "ipython",
    "version": 3
   },
   "file_extension": ".py",
   "mimetype": "text/x-python",
   "name": "python",
   "nbconvert_exporter": "python",
   "pygments_lexer": "ipython3",
   "version": "3.7.3"
  }
 },
 "nbformat": 4,
 "nbformat_minor": 2
}
