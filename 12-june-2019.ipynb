{
 "cells": [
  {
   "cell_type": "markdown",
   "metadata": {},
   "source": [
    "# Problem solving and Programming \n",
    "### Date 12 June 2019\n",
    "\n",
    "### Day objectives\n",
    "- string slicing\n",
    "- Functions in python\n",
    "- Basic problem related to conditional statements using functions\n",
    "- Python Data structures - Lists, Tuples and Dictionaries\n",
    "- Operations on data structures \n",
    "- Applying Data Structures to solve problems "
   ]
  },
  {
   "cell_type": "markdown",
   "metadata": {},
   "source": []
  },
  {
   "cell_type": "markdown",
   "metadata": {},
   "source": [
    "### String Slicing"
   ]
  },
  {
   "cell_type": "code",
   "execution_count": 4,
   "metadata": {},
   "outputs": [
    {
     "data": {
      "text/plain": [
       "'nhy'"
      ]
     },
     "execution_count": 4,
     "metadata": {},
     "output_type": "execute_result"
    }
   ],
   "source": [
    "s1=\"python\"\n",
    "\n",
    "s1[len(s1)-1]#accessing the Last char in a string\n",
    "\n",
    "s1[-1] # Another way of accessing last char\n",
    "\n",
    "s1[len(s1)-2] #to access the penultimate character\n",
    "\n",
    "s1[0:2]# to access 1st 2 chars\n",
    "\n",
    "s1[-2:] #to get last 2 chars\n",
    "\n",
    "s1[-3:len(s1)-1] #acces the 2nd char from last\n",
    "\n",
    "s1[4:] #accessing 5th char to end of the string\n",
    "\n",
    "#Access all chars except 1st and last\n",
    "s1[1:len(s1)-1]\n",
    "\n",
    "s1[len(s1)//2] # TO get middle char\n",
    "\n",
    "s=\"abcDef\"\n",
    "\n",
    "s[-3:]#\n",
    "\n",
    "s[len(s)-3:]\n",
    "\n",
    "s1[-1::-1]#Reverse the string\n",
    "\n",
    "s1[-1:-3:-1]#Accessing last two chars in reverse order\n",
    "\n",
    "s[len(s)//2-1:len(s)//2-1+2][::-1]\n",
    "\n",
    "s1[::2] #Access alternate chars\n",
    "\n",
    "s1[-1::-2] #Access alternate chars in reverse order"
   ]
  },
  {
   "cell_type": "code",
   "execution_count": 5,
   "metadata": {},
   "outputs": [
    {
     "data": {
      "text/plain": [
       "'feDcb'"
      ]
     },
     "execution_count": 5,
     "metadata": {},
     "output_type": "execute_result"
    }
   ],
   "source": [
    "s[1:][::-1]"
   ]
  },
  {
   "cell_type": "markdown",
   "metadata": {},
   "source": [
    "### practies "
   ]
  },
  {
   "cell_type": "code",
   "execution_count": 7,
   "metadata": {},
   "outputs": [
    {
     "data": {
      "text/plain": [
       "int"
      ]
     },
     "execution_count": 7,
     "metadata": {},
     "output_type": "execute_result"
    }
   ],
   "source": [
    "type(12)#int \n",
    "type(True)#bool\n",
    "a=12\n",
    "type(a)\n",
    "True +True+True"
   ]
  },
  {
   "cell_type": "markdown",
   "metadata": {},
   "source": [
    "## Functions"
   ]
  },
  {
   "cell_type": "code",
   "execution_count": 8,
   "metadata": {},
   "outputs": [
    {
     "data": {
      "text/plain": [
       "'esrever'"
      ]
     },
     "execution_count": 8,
     "metadata": {},
     "output_type": "execute_result"
    }
   ],
   "source": [
    "#Functions to reverse a string \n",
    "def reverseString(s):\n",
    "    return s[::-1]\n",
    "reverseString(\"reverse\")"
   ]
  },
  {
   "cell_type": "code",
   "execution_count": null,
   "metadata": {},
   "outputs": [],
   "source": [
    "# function to check palindrome\n",
    "def palindrome(s):\n",
    "    if s==s[::-1]:\n",
    "        return True\n",
    "    return False\n",
    "palindrome(\"giri\")"
   ]
  },
  {
   "cell_type": "code",
   "execution_count": null,
   "metadata": {},
   "outputs": [],
   "source": [
    "# function to check LeapYear\n",
    "def isLeapyear(year):\n",
    "    if year%400==0 or (year%100!=0 and year%4==0):\n",
    "        return True\n",
    "    return False\n",
    "isLeapyear(2020)        "
   ]
  },
  {
   "cell_type": "code",
   "execution_count": null,
   "metadata": {},
   "outputs": [],
   "source": [
    "%magiclist"
   ]
  },
  {
   "cell_type": "code",
   "execution_count": null,
   "metadata": {},
   "outputs": [],
   "source": [
    "def howmanydigits(n):\n",
    "    return len(str(n))\n",
    "howmanydigits(2344)"
   ]
  },
  {
   "cell_type": "code",
   "execution_count": 11,
   "metadata": {},
   "outputs": [
    {
     "name": "stdout",
     "output_type": "stream",
     "text": [
      "enter four numbers3 7 2 8\n"
     ]
    },
    {
     "data": {
      "text/plain": [
       "8"
      ]
     },
     "execution_count": 11,
     "metadata": {},
     "output_type": "execute_result"
    }
   ],
   "source": [
    "max(map(int,input(\"enter four numbers\").split()))"
   ]
  },
  {
   "cell_type": "markdown",
   "metadata": {},
   "source": [
    "### Iteration \n",
    "- for \n",
    "- while"
   ]
  },
  {
   "cell_type": "code",
   "execution_count": 12,
   "metadata": {},
   "outputs": [
    {
     "name": "stdout",
     "output_type": "stream",
     "text": [
      "1 2 3 4 5 6 "
     ]
    }
   ],
   "source": [
    "#Function to print n natural numbers\n",
    "def printNnaturalnumbers(n):\n",
    "    for counter in range(1, n+1):\n",
    "        print(counter,end=' ')\n",
    "    return \n",
    "\n",
    "printNnaturalnumbers(6)"
   ]
  },
  {
   "cell_type": "code",
   "execution_count": 21,
   "metadata": {},
   "outputs": [
    {
     "name": "stdout",
     "output_type": "stream",
     "text": [
      "*\n",
      "***\n",
      "*****\n",
      "*******\n",
      "*********\n"
     ]
    }
   ],
   "source": [
    "for i in range(1,10,2):\n",
    "    print(\"*\"*i)"
   ]
  },
  {
   "cell_type": "code",
   "execution_count": 26,
   "metadata": {},
   "outputs": [
    {
     "name": "stdout",
     "output_type": "stream",
     "text": [
      "6\n",
      "1 2 3 4 5 6 "
     ]
    }
   ],
   "source": [
    "n=int(input())\n",
    "counter = 1\n",
    "while counter <=n:\n",
    "    print(counter,end=\" \")\n",
    "    counter+=1"
   ]
  },
  {
   "cell_type": "code",
   "execution_count": 28,
   "metadata": {},
   "outputs": [
    {
     "data": {
      "text/plain": [
       "3"
      ]
     },
     "execution_count": 28,
     "metadata": {},
     "output_type": "execute_result"
    }
   ],
   "source": []
  },
  {
   "cell_type": "code",
   "execution_count": null,
   "metadata": {},
   "outputs": [],
   "source": []
  }
 ],
 "metadata": {
  "kernelspec": {
   "display_name": "Python 3",
   "language": "python",
   "name": "python3"
  }
 },
 "nbformat": 4,
 "nbformat_minor": 2
}
